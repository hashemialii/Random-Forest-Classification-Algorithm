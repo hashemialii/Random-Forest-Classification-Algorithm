{
 "cells": [
  {
   "cell_type": "markdown",
   "id": "666cbfa4",
   "metadata": {},
   "source": [
    "# <p style=\"padding:10px;background-color:#FDD667;margin:0;color:#1c1c1c;font-family:newtimeroman;font-size:150%;text-align:center;border-radius: 15px 50px;overflow:hidden;font-weight:500\">Random Forest Algorithm</p>\n"
   ]
  },
  {
   "cell_type": "markdown",
   "id": "d643edde",
   "metadata": {},
   "source": [
    "<p style=\"text-align:center; \">\n",
    "<img src = \"https://static.boredpanda.com/blog/wp-content/uploads/2014/10/forest-photography-1__880.jpg\n",
    "\" width=75%>"
   ]
  },
  {
   "cell_type": "markdown",
   "id": "050908a0",
   "metadata": {},
   "source": [
    "Random Forest is a popular machine learning algorithm that belongs to the supervised learning technique. It can be used for both Classification and Regression problems in ML. It is based on the concept of ensemble learning, which is a process of combining multiple classifiers to solve a complex problem and to improve the performance of the model."
   ]
  },
  {
   "cell_type": "markdown",
   "id": "9ea9aed9",
   "metadata": {},
   "source": [
    "As the name suggests, \"Random Forest is a classifier that contains a number of decision trees on various subsets of the given dataset and takes the average to improve the predictive accuracy of that dataset.\" Instead of relying on one decision tree, the random forest takes the prediction from each tree and based on the majority votes of predictions, and it predicts the final output."
   ]
  },
  {
   "cell_type": "markdown",
   "id": "ad95aad1",
   "metadata": {},
   "source": [
    "\n",
    "<a id='top'></a>\n",
    "<div class=\"list-group\" id=\"list-tab\" role=\"tablist\">\n",
    "<p style=\"padding:10px;background-color:#FDD667;margin:0;color:#1c1c1c;font-family:newtimeroman;font-size:130%;text-align:center;border-radius: 15px 50px;overflow:hidden;font-weight:500\">Table Of Contents</p> "
   ]
  },
  {
   "cell_type": "markdown",
   "id": "b839260e",
   "metadata": {},
   "source": [
    "    \n",
    "|No  | Contents |No  | Contents  |\n",
    "|:---| :---     |:---| :----     |\n",
    "|1   | [<font color=\"#1c1c1c\"> Importing Libraries</font>](#1)                   |6   | [<font color=\"#1c1c1c\"> Splitting the Dataset into the Training Set and Test Set</font>](#6)              |\n",
    "|2   | [<font color=\"#1c1c1c\"> Importing Dataset</font>](#2)                         |7   | [<font color=\"#1c1c1c\"> Random Forest Model</font>](#7)              |     \n",
    "|3   | [<font color=\"#1c1c1c\"> Encoding</font>](#3)                     |8   | [<font color=\"#1c1c1c\"> Evaluation</font>](#8)|\n",
    "|4   | [<font color=\"#1c1c1c\"> Data Preprocessing</font>](#4)      |9   | [<font color=\"#1c1c1c\"> Predicting a New Result</font>](#9)   |       \n",
    "|5   | [<font color=\"#1c1c1c\"> Feature Vector and Target Variable</font>](#5)"
   ]
  },
  {
   "cell_type": "markdown",
   "id": "8c8905fa",
   "metadata": {},
   "source": [
    "The greater number of trees in the forest leads to higher accuracy and prevents the problem of overfitting.\n",
    "\n",
    "The below diagram explains the working of the Random Forest algorithm:"
   ]
  },
  {
   "cell_type": "markdown",
   "id": "e78cc5c0",
   "metadata": {},
   "source": [
    "<p style=\"text-align:center; \">\n",
    "<img src = \"https://static.javatpoint.com/tutorial/machine-learning/images/random-forest-algorithm.png\n",
    "\" width=75%>"
   ]
  },
  {
   "cell_type": "markdown",
   "id": "8db90381",
   "metadata": {},
   "source": [
    "\n",
    "<div class=\"list-group\" id=\"list-tab\" role=\"tablist\">\n",
    "<p style=\"padding:10px;background-color:#FDD667;margin:0;color:#1c1c1c;font-family:newtimeroman;font-size:130%;text-align:center;border-radius: 15px 50px;overflow:hidden;font-weight:500\"> Assumptions for Random Forest</p>\n",
    "\n"
   ]
  },
  {
   "cell_type": "markdown",
   "id": "edbb749b",
   "metadata": {},
   "source": [
    "Since the random forest combines multiple trees to predict the class of the dataset, it is possible that some decision trees may predict the correct output, while others may not. But together, all the trees predict the correct output. Therefore, below are two assumptions for a better Random forest classifier:\n",
    "\n",
    "* There should be some actual values in the feature variable of the dataset so that the classifier can predict accurate results rather than a guessed result.\n",
    "* The predictions from each tree must have very low correlations."
   ]
  },
  {
   "cell_type": "markdown",
   "id": "1f29b54a",
   "metadata": {},
   "source": [
    "<p style=\"text-align:center; \">\n",
    "<img src = \"https://1.bp.blogspot.com/-Ax59WK4DE8w/YK6o9bt_9jI/AAAAAAAAEQA/9KbBf9cdL6kOFkJnU39aUn4m8ydThPenwCLcBGAsYHQ/s0/Random%2BForest%2B03.gif\n",
    "\" width=75%>"
   ]
  },
  {
   "cell_type": "markdown",
   "id": "dee72366",
   "metadata": {},
   "source": [
    "\n",
    "<div class=\"list-group\" id=\"list-tab\" role=\"tablist\">\n",
    "<p style=\"padding:10px;background-color:#FDD667;margin:0;color:#1c1c1c;font-family:newtimeroman;font-size:130%;text-align:center;border-radius: 15px 50px;overflow:hidden;font-weight:500\"> Why use Random Forest?</p>\n",
    "\n"
   ]
  },
  {
   "cell_type": "markdown",
   "id": "f005f5da",
   "metadata": {},
   "source": [
    "Below are some points that explain why we should use the Random Forest algorithm:\n",
    "\n",
    "* It takes less training time as compared to other algorithms.\n",
    "* It predicts output with high accuracy, even for the large dataset it runs efficiently.\n",
    "* It can also maintain accuracy when a large proportion of data is missing."
   ]
  },
  {
   "cell_type": "markdown",
   "id": "0c9fc279",
   "metadata": {},
   "source": [
    "<p style=\"text-align:center; \">\n",
    "<img src = \"https://dataaspirant.com/wp-content/uploads/2017/04/Random-Forest-Introduction.jpg\n",
    "\" width=75%>"
   ]
  },
  {
   "cell_type": "markdown",
   "id": "e73f95e7",
   "metadata": {},
   "source": [
    "\n",
    "\n",
    "\n",
    "<div class=\"list-group\" id=\"list-tab\" role=\"tablist\">\n",
    "<p style=\"padding:10px;background-color:#FDD667;margin:0;color:#1c1c1c;font-family:newtimeroman;font-size:130%;text-align:center;border-radius: 15px 50px;overflow:hidden;font-weight:500\"> How does Random Forest algorithm work?</p>\n",
    "\n"
   ]
  },
  {
   "cell_type": "markdown",
   "id": "effcb671",
   "metadata": {},
   "source": [
    "Random Forest works in two-phase first is to create the random forest by combining N decision tree, and second is to make predictions for each tree created in the first phase.\n",
    "\n",
    "The Working process can be explained in the below steps and diagram:\n",
    "\n",
    "* Step-1: Select random K data points from the training set.\n",
    "\n",
    "* Step-2: Build the decision trees associated with the selected data points (Subsets).\n",
    "\n",
    "* Step-3: Choose the number N for decision trees that you want to build.\n",
    "\n",
    "* Step-4: Repeat Step 1 & 2.\n",
    "\n",
    "* Step-5: For new data points, find the predictions of each decision tree, and assign the new data points to the category that wins the majority votes.\n",
    "\n",
    "The working of the algorithm can be better understood by the below example:"
   ]
  },
  {
   "cell_type": "markdown",
   "id": "4d8c7cf5",
   "metadata": {},
   "source": [
    "<p style=\"text-align:center; \">\n",
    "<img src = \"https://www.edureka.co/blog/wp-content/uploads/2019/01/Classification-Random-Forest-Random-Forest-In-R-Edureka-2-381x300.png\">"
   ]
  },
  {
   "cell_type": "markdown",
   "id": "39e0d443",
   "metadata": {},
   "source": [
    "\n",
    "<div class=\"list-group\" id=\"list-tab\" role=\"tablist\">\n",
    "<p style=\"padding:10px;background-color:#FDD667;margin:0;color:#1c1c1c;font-family:newtimeroman;font-size:130%;text-align:center;border-radius: 15px 50px;overflow:hidden;font-weight:500\"> Example</p>\n",
    "\n"
   ]
  },
  {
   "cell_type": "markdown",
   "id": "b75f86b6",
   "metadata": {},
   "source": [
    "Suppose there is a dataset that contains multiple fruit images. So, this dataset is given to the Random forest classifier. The dataset is divided into subsets and given to each decision tree. During the training phase, each decision tree produces a prediction result, and when a new data point occurs, then based on the majority of results, the Random Forest classifier predicts the final decision. Consider the below image:"
   ]
  },
  {
   "cell_type": "markdown",
   "id": "f3fbf736",
   "metadata": {},
   "source": [
    "<p style=\"text-align:center; \">\n",
    "<img src = \"https://static.javatpoint.com/tutorial/machine-learning/images/random-forest-algorithm2.png\n",
    "\" width=75%>"
   ]
  },
  {
   "cell_type": "markdown",
   "id": "6c85a691",
   "metadata": {},
   "source": [
    "\n",
    "\n",
    "<div class=\"list-group\" id=\"list-tab\" role=\"tablist\">\n",
    "<p style=\"padding:10px;background-color:#FDD667;margin:0;color:#1c1c1c;font-family:newtimeroman;font-size:130%;text-align:center;border-radius: 15px 50px;overflow:hidden;font-weight:500\"> Applications of Random Forest</p>\n",
    "\n"
   ]
  },
  {
   "cell_type": "markdown",
   "id": "9588d306",
   "metadata": {},
   "source": [
    "There are mainly four sectors where Random forest mostly used:\n",
    "\n",
    "1. Banking: Banking sector mostly uses this algorithm for the identification of loan risk.\n",
    "2. Medicine: With the help of this algorithm, disease trends and risks of the disease can be identified.\n",
    "3. Land Use: We can identify the areas of similar land use by this algorithm.\n",
    "4. Marketing: Marketing trends can be identified using this algorithm."
   ]
  },
  {
   "cell_type": "markdown",
   "id": "ffd2cd32",
   "metadata": {},
   "source": [
    "\n",
    "\n",
    "<div class=\"list-group\" id=\"list-tab\" role=\"tablist\">\n",
    "<p style=\"padding:10px;background-color:#FDD667;margin:0;color:#1c1c1c;font-family:newtimeroman;font-size:130%;text-align:center;border-radius: 15px 50px;overflow:hidden;font-weight:500\"> Advantages of Random Forest</p>\n",
    "\n"
   ]
  },
  {
   "cell_type": "markdown",
   "id": "36fdf05c",
   "metadata": {},
   "source": [
    "* Random Forest is capable of performing both Classification and Regression tasks.\n",
    "* It is capable of handling large datasets with high dimensionality.\n",
    "* It enhances the accuracy of the model and prevents the overfitting issue."
   ]
  },
  {
   "cell_type": "markdown",
   "id": "77a5a92b",
   "metadata": {},
   "source": [
    "\n",
    "<div class=\"list-group\" id=\"list-tab\" role=\"tablist\">\n",
    "<p style=\"padding:10px;background-color:#FDD667;margin:0;color:#1c1c1c;font-family:newtimeroman;font-size:130%;text-align:center;border-radius: 15px 50px;overflow:hidden;font-weight:500\"> Disadvantages of Random Forest</p>\n",
    "\n"
   ]
  },
  {
   "cell_type": "markdown",
   "id": "2240be7e",
   "metadata": {},
   "source": [
    "Although random forest can be used for both classification and regression tasks, it is not more suitable for Regression tasks."
   ]
  },
  {
   "cell_type": "markdown",
   "id": "17d3ce98",
   "metadata": {},
   "source": [
    "<a id=\"1\"></a>\n",
    "# <p style=\"padding:10px;background-color:#FDD667;margin:0;color:#1c1c1c;font-family:newtimeroman;font-size:100%;text-align:center;border-radius: 15px 50px;overflow:hidden;font-weight:500\">Importing Libraries</p>"
   ]
  },
  {
   "cell_type": "code",
   "execution_count": 315,
   "id": "e076e3d8",
   "metadata": {},
   "outputs": [],
   "source": [
    "%matplotlib inline\n",
    "import numpy as np\n",
    "import pandas as pd\n",
    "import matplotlib.pyplot as plt\n",
    "import seaborn as sns\n",
    "import sklearn\n",
    "import warnings\n",
    "\n",
    "from sklearn.preprocessing import LabelEncoder\n",
    "from sklearn.impute import KNNImputer\n",
    "from sklearn.model_selection import train_test_split\n",
    "from sklearn.preprocessing import StandardScaler\n",
    "from sklearn.metrics import f1_score\n",
    "from sklearn.ensemble import RandomForestClassifier\n",
    "from sklearn.model_selection import cross_val_score\n",
    "from sklearn.metrics import confusion_matrix, accuracy_score, recall_score, precision_score\n",
    "from sklearn.metrics import classification_report\n",
    "\n",
    "warnings.filterwarnings('ignore')"
   ]
  },
  {
   "cell_type": "markdown",
   "id": "a4ae2c07",
   "metadata": {},
   "source": [
    "\n",
    "<a id=\"2\"></a>\n",
    "# <p style=\"padding:10px;background-color:#FDD667;margin:0;color:#1c1c1c;font-family:newtimeroman;font-size:100%;text-align:center;border-radius: 15px 50px;overflow:hidden;font-weight:500\">Importing the Dataset</p>"
   ]
  },
  {
   "cell_type": "code",
   "execution_count": 316,
   "id": "dbf38ec9",
   "metadata": {},
   "outputs": [],
   "source": [
    "df = pd.read_csv('train.csv')"
   ]
  },
  {
   "cell_type": "code",
   "execution_count": 317,
   "id": "68d3b3dc",
   "metadata": {},
   "outputs": [
    {
     "data": {
      "text/html": [
       "<style type=\"text/css\">\n",
       "#T_d3618_row0_col0, #T_d3618_row0_col1, #T_d3618_row0_col2, #T_d3618_row0_col3, #T_d3618_row0_col4, #T_d3618_row0_col5, #T_d3618_row0_col6, #T_d3618_row0_col7, #T_d3618_row0_col8, #T_d3618_row0_col9, #T_d3618_row0_col10, #T_d3618_row0_col11, #T_d3618_row0_col12, #T_d3618_row1_col0, #T_d3618_row1_col1, #T_d3618_row1_col2, #T_d3618_row1_col3, #T_d3618_row1_col4, #T_d3618_row1_col5, #T_d3618_row1_col6, #T_d3618_row1_col7, #T_d3618_row1_col8, #T_d3618_row1_col9, #T_d3618_row1_col10, #T_d3618_row1_col11, #T_d3618_row1_col12, #T_d3618_row2_col0, #T_d3618_row2_col1, #T_d3618_row2_col2, #T_d3618_row2_col3, #T_d3618_row2_col4, #T_d3618_row2_col5, #T_d3618_row2_col6, #T_d3618_row2_col7, #T_d3618_row2_col8, #T_d3618_row2_col9, #T_d3618_row2_col10, #T_d3618_row2_col11, #T_d3618_row2_col12, #T_d3618_row3_col0, #T_d3618_row3_col1, #T_d3618_row3_col2, #T_d3618_row3_col3, #T_d3618_row3_col4, #T_d3618_row3_col5, #T_d3618_row3_col6, #T_d3618_row3_col7, #T_d3618_row3_col8, #T_d3618_row3_col9, #T_d3618_row3_col10, #T_d3618_row3_col11, #T_d3618_row3_col12, #T_d3618_row4_col0, #T_d3618_row4_col1, #T_d3618_row4_col2, #T_d3618_row4_col3, #T_d3618_row4_col4, #T_d3618_row4_col5, #T_d3618_row4_col6, #T_d3618_row4_col7, #T_d3618_row4_col8, #T_d3618_row4_col9, #T_d3618_row4_col10, #T_d3618_row4_col11, #T_d3618_row4_col12 {\n",
       "  background-color: #FDD667;\n",
       "  color: black;\n",
       "  border: 1.5px solid black;\n",
       "}\n",
       "</style>\n",
       "<table id=\"T_d3618\">\n",
       "  <thead>\n",
       "    <tr>\n",
       "      <th class=\"blank level0\" >&nbsp;</th>\n",
       "      <th id=\"T_d3618_level0_col0\" class=\"col_heading level0 col0\" >Loan_ID</th>\n",
       "      <th id=\"T_d3618_level0_col1\" class=\"col_heading level0 col1\" >Gender</th>\n",
       "      <th id=\"T_d3618_level0_col2\" class=\"col_heading level0 col2\" >Married</th>\n",
       "      <th id=\"T_d3618_level0_col3\" class=\"col_heading level0 col3\" >Dependents</th>\n",
       "      <th id=\"T_d3618_level0_col4\" class=\"col_heading level0 col4\" >Education</th>\n",
       "      <th id=\"T_d3618_level0_col5\" class=\"col_heading level0 col5\" >Self_Employed</th>\n",
       "      <th id=\"T_d3618_level0_col6\" class=\"col_heading level0 col6\" >ApplicantIncome</th>\n",
       "      <th id=\"T_d3618_level0_col7\" class=\"col_heading level0 col7\" >CoapplicantIncome</th>\n",
       "      <th id=\"T_d3618_level0_col8\" class=\"col_heading level0 col8\" >LoanAmount</th>\n",
       "      <th id=\"T_d3618_level0_col9\" class=\"col_heading level0 col9\" >Loan_Amount_Term</th>\n",
       "      <th id=\"T_d3618_level0_col10\" class=\"col_heading level0 col10\" >Credit_History</th>\n",
       "      <th id=\"T_d3618_level0_col11\" class=\"col_heading level0 col11\" >Property_Area</th>\n",
       "      <th id=\"T_d3618_level0_col12\" class=\"col_heading level0 col12\" >Loan_Status</th>\n",
       "    </tr>\n",
       "  </thead>\n",
       "  <tbody>\n",
       "    <tr>\n",
       "      <th id=\"T_d3618_level0_row0\" class=\"row_heading level0 row0\" >0</th>\n",
       "      <td id=\"T_d3618_row0_col0\" class=\"data row0 col0\" >LP001002</td>\n",
       "      <td id=\"T_d3618_row0_col1\" class=\"data row0 col1\" >Male</td>\n",
       "      <td id=\"T_d3618_row0_col2\" class=\"data row0 col2\" >No</td>\n",
       "      <td id=\"T_d3618_row0_col3\" class=\"data row0 col3\" >0</td>\n",
       "      <td id=\"T_d3618_row0_col4\" class=\"data row0 col4\" >Graduate</td>\n",
       "      <td id=\"T_d3618_row0_col5\" class=\"data row0 col5\" >No</td>\n",
       "      <td id=\"T_d3618_row0_col6\" class=\"data row0 col6\" >5849</td>\n",
       "      <td id=\"T_d3618_row0_col7\" class=\"data row0 col7\" >0.000000</td>\n",
       "      <td id=\"T_d3618_row0_col8\" class=\"data row0 col8\" >nan</td>\n",
       "      <td id=\"T_d3618_row0_col9\" class=\"data row0 col9\" >360.000000</td>\n",
       "      <td id=\"T_d3618_row0_col10\" class=\"data row0 col10\" >1.000000</td>\n",
       "      <td id=\"T_d3618_row0_col11\" class=\"data row0 col11\" >Urban</td>\n",
       "      <td id=\"T_d3618_row0_col12\" class=\"data row0 col12\" >Y</td>\n",
       "    </tr>\n",
       "    <tr>\n",
       "      <th id=\"T_d3618_level0_row1\" class=\"row_heading level0 row1\" >1</th>\n",
       "      <td id=\"T_d3618_row1_col0\" class=\"data row1 col0\" >LP001003</td>\n",
       "      <td id=\"T_d3618_row1_col1\" class=\"data row1 col1\" >Male</td>\n",
       "      <td id=\"T_d3618_row1_col2\" class=\"data row1 col2\" >Yes</td>\n",
       "      <td id=\"T_d3618_row1_col3\" class=\"data row1 col3\" >1</td>\n",
       "      <td id=\"T_d3618_row1_col4\" class=\"data row1 col4\" >Graduate</td>\n",
       "      <td id=\"T_d3618_row1_col5\" class=\"data row1 col5\" >No</td>\n",
       "      <td id=\"T_d3618_row1_col6\" class=\"data row1 col6\" >4583</td>\n",
       "      <td id=\"T_d3618_row1_col7\" class=\"data row1 col7\" >1508.000000</td>\n",
       "      <td id=\"T_d3618_row1_col8\" class=\"data row1 col8\" >128.000000</td>\n",
       "      <td id=\"T_d3618_row1_col9\" class=\"data row1 col9\" >360.000000</td>\n",
       "      <td id=\"T_d3618_row1_col10\" class=\"data row1 col10\" >1.000000</td>\n",
       "      <td id=\"T_d3618_row1_col11\" class=\"data row1 col11\" >Rural</td>\n",
       "      <td id=\"T_d3618_row1_col12\" class=\"data row1 col12\" >N</td>\n",
       "    </tr>\n",
       "    <tr>\n",
       "      <th id=\"T_d3618_level0_row2\" class=\"row_heading level0 row2\" >2</th>\n",
       "      <td id=\"T_d3618_row2_col0\" class=\"data row2 col0\" >LP001005</td>\n",
       "      <td id=\"T_d3618_row2_col1\" class=\"data row2 col1\" >Male</td>\n",
       "      <td id=\"T_d3618_row2_col2\" class=\"data row2 col2\" >Yes</td>\n",
       "      <td id=\"T_d3618_row2_col3\" class=\"data row2 col3\" >0</td>\n",
       "      <td id=\"T_d3618_row2_col4\" class=\"data row2 col4\" >Graduate</td>\n",
       "      <td id=\"T_d3618_row2_col5\" class=\"data row2 col5\" >Yes</td>\n",
       "      <td id=\"T_d3618_row2_col6\" class=\"data row2 col6\" >3000</td>\n",
       "      <td id=\"T_d3618_row2_col7\" class=\"data row2 col7\" >0.000000</td>\n",
       "      <td id=\"T_d3618_row2_col8\" class=\"data row2 col8\" >66.000000</td>\n",
       "      <td id=\"T_d3618_row2_col9\" class=\"data row2 col9\" >360.000000</td>\n",
       "      <td id=\"T_d3618_row2_col10\" class=\"data row2 col10\" >1.000000</td>\n",
       "      <td id=\"T_d3618_row2_col11\" class=\"data row2 col11\" >Urban</td>\n",
       "      <td id=\"T_d3618_row2_col12\" class=\"data row2 col12\" >Y</td>\n",
       "    </tr>\n",
       "    <tr>\n",
       "      <th id=\"T_d3618_level0_row3\" class=\"row_heading level0 row3\" >3</th>\n",
       "      <td id=\"T_d3618_row3_col0\" class=\"data row3 col0\" >LP001006</td>\n",
       "      <td id=\"T_d3618_row3_col1\" class=\"data row3 col1\" >Male</td>\n",
       "      <td id=\"T_d3618_row3_col2\" class=\"data row3 col2\" >Yes</td>\n",
       "      <td id=\"T_d3618_row3_col3\" class=\"data row3 col3\" >0</td>\n",
       "      <td id=\"T_d3618_row3_col4\" class=\"data row3 col4\" >Not Graduate</td>\n",
       "      <td id=\"T_d3618_row3_col5\" class=\"data row3 col5\" >No</td>\n",
       "      <td id=\"T_d3618_row3_col6\" class=\"data row3 col6\" >2583</td>\n",
       "      <td id=\"T_d3618_row3_col7\" class=\"data row3 col7\" >2358.000000</td>\n",
       "      <td id=\"T_d3618_row3_col8\" class=\"data row3 col8\" >120.000000</td>\n",
       "      <td id=\"T_d3618_row3_col9\" class=\"data row3 col9\" >360.000000</td>\n",
       "      <td id=\"T_d3618_row3_col10\" class=\"data row3 col10\" >1.000000</td>\n",
       "      <td id=\"T_d3618_row3_col11\" class=\"data row3 col11\" >Urban</td>\n",
       "      <td id=\"T_d3618_row3_col12\" class=\"data row3 col12\" >Y</td>\n",
       "    </tr>\n",
       "    <tr>\n",
       "      <th id=\"T_d3618_level0_row4\" class=\"row_heading level0 row4\" >4</th>\n",
       "      <td id=\"T_d3618_row4_col0\" class=\"data row4 col0\" >LP001008</td>\n",
       "      <td id=\"T_d3618_row4_col1\" class=\"data row4 col1\" >Male</td>\n",
       "      <td id=\"T_d3618_row4_col2\" class=\"data row4 col2\" >No</td>\n",
       "      <td id=\"T_d3618_row4_col3\" class=\"data row4 col3\" >0</td>\n",
       "      <td id=\"T_d3618_row4_col4\" class=\"data row4 col4\" >Graduate</td>\n",
       "      <td id=\"T_d3618_row4_col5\" class=\"data row4 col5\" >No</td>\n",
       "      <td id=\"T_d3618_row4_col6\" class=\"data row4 col6\" >6000</td>\n",
       "      <td id=\"T_d3618_row4_col7\" class=\"data row4 col7\" >0.000000</td>\n",
       "      <td id=\"T_d3618_row4_col8\" class=\"data row4 col8\" >141.000000</td>\n",
       "      <td id=\"T_d3618_row4_col9\" class=\"data row4 col9\" >360.000000</td>\n",
       "      <td id=\"T_d3618_row4_col10\" class=\"data row4 col10\" >1.000000</td>\n",
       "      <td id=\"T_d3618_row4_col11\" class=\"data row4 col11\" >Urban</td>\n",
       "      <td id=\"T_d3618_row4_col12\" class=\"data row4 col12\" >Y</td>\n",
       "    </tr>\n",
       "  </tbody>\n",
       "</table>\n"
      ],
      "text/plain": [
       "<pandas.io.formats.style.Styler at 0x26d1d8c91f0>"
      ]
     },
     "execution_count": 317,
     "metadata": {},
     "output_type": "execute_result"
    }
   ],
   "source": [
    "df.head().style.set_properties(**{\"background-color\": \"#FDD667\",\"color\":\"black\",\"border\": \"1.5px solid black\"})"
   ]
  },
  {
   "cell_type": "markdown",
   "id": "735bcead",
   "metadata": {},
   "source": [
    "<img src = \"Data.jpg\" width=50%>"
   ]
  },
  {
   "cell_type": "code",
   "execution_count": 318,
   "id": "8fc573af",
   "metadata": {},
   "outputs": [],
   "source": [
    "df = df.rename(columns=str.lower)"
   ]
  },
  {
   "cell_type": "code",
   "execution_count": 319,
   "id": "02325127",
   "metadata": {},
   "outputs": [
    {
     "data": {
      "text/plain": [
       "(614, 13)"
      ]
     },
     "execution_count": 319,
     "metadata": {},
     "output_type": "execute_result"
    }
   ],
   "source": [
    "df.shape"
   ]
  },
  {
   "cell_type": "code",
   "execution_count": 320,
   "id": "a3217a5e",
   "metadata": {
    "scrolled": true
   },
   "outputs": [
    {
     "name": "stdout",
     "output_type": "stream",
     "text": [
      "<class 'pandas.core.frame.DataFrame'>\n",
      "RangeIndex: 614 entries, 0 to 613\n",
      "Data columns (total 13 columns):\n",
      " #   Column             Non-Null Count  Dtype  \n",
      "---  ------             --------------  -----  \n",
      " 0   loan_id            614 non-null    object \n",
      " 1   gender             601 non-null    object \n",
      " 2   married            611 non-null    object \n",
      " 3   dependents         599 non-null    object \n",
      " 4   education          614 non-null    object \n",
      " 5   self_employed      582 non-null    object \n",
      " 6   applicantincome    614 non-null    int64  \n",
      " 7   coapplicantincome  614 non-null    float64\n",
      " 8   loanamount         592 non-null    float64\n",
      " 9   loan_amount_term   600 non-null    float64\n",
      " 10  credit_history     564 non-null    float64\n",
      " 11  property_area      614 non-null    object \n",
      " 12  loan_status        614 non-null    object \n",
      "dtypes: float64(4), int64(1), object(8)\n",
      "memory usage: 62.5+ KB\n"
     ]
    }
   ],
   "source": [
    "df.info()"
   ]
  },
  {
   "cell_type": "code",
   "execution_count": 321,
   "id": "dcd3cee7",
   "metadata": {},
   "outputs": [
    {
     "data": {
      "text/html": [
       "<div>\n",
       "<style scoped>\n",
       "    .dataframe tbody tr th:only-of-type {\n",
       "        vertical-align: middle;\n",
       "    }\n",
       "\n",
       "    .dataframe tbody tr th {\n",
       "        vertical-align: top;\n",
       "    }\n",
       "\n",
       "    .dataframe thead th {\n",
       "        text-align: right;\n",
       "    }\n",
       "</style>\n",
       "<table border=\"1\" class=\"dataframe\">\n",
       "  <thead>\n",
       "    <tr style=\"text-align: right;\">\n",
       "      <th></th>\n",
       "      <th>loan_id</th>\n",
       "      <th>gender</th>\n",
       "      <th>married</th>\n",
       "      <th>dependents</th>\n",
       "      <th>education</th>\n",
       "      <th>self_employed</th>\n",
       "      <th>applicantincome</th>\n",
       "      <th>coapplicantincome</th>\n",
       "      <th>loanamount</th>\n",
       "      <th>loan_amount_term</th>\n",
       "      <th>credit_history</th>\n",
       "      <th>property_area</th>\n",
       "      <th>loan_status</th>\n",
       "    </tr>\n",
       "  </thead>\n",
       "  <tbody>\n",
       "  </tbody>\n",
       "</table>\n",
       "</div>"
      ],
      "text/plain": [
       "Empty DataFrame\n",
       "Columns: [loan_id, gender, married, dependents, education, self_employed, applicantincome, coapplicantincome, loanamount, loan_amount_term, credit_history, property_area, loan_status]\n",
       "Index: []"
      ]
     },
     "execution_count": 321,
     "metadata": {},
     "output_type": "execute_result"
    }
   ],
   "source": [
    "df[df.duplicated(subset='loan_id')]"
   ]
  },
  {
   "cell_type": "markdown",
   "id": "8db74a70",
   "metadata": {},
   "source": [
    "\n",
    "<a id=\"3\"></a>\n",
    "# <p style=\"padding:10px;background-color:#FDD667;margin:0;color:#1c1c1c;font-family:newtimeroman;font-size:100%;text-align:center;border-radius: 15px 50px;overflow:hidden;font-weight:500\">Encoding</p>"
   ]
  },
  {
   "cell_type": "code",
   "execution_count": 323,
   "id": "5d2d8e5b",
   "metadata": {},
   "outputs": [],
   "source": [
    "en = LabelEncoder()\n",
    "cat =  ['gender','married','education', 'self_employed','property_area','loan_status']\n",
    "for cols in cat:\n",
    "    df[cols] = en.fit_transform(df[cols])"
   ]
  },
  {
   "cell_type": "code",
   "execution_count": 324,
   "id": "5910e95e",
   "metadata": {},
   "outputs": [],
   "source": [
    "df['dependents'].replace('3+',3,inplace=True)"
   ]
  },
  {
   "cell_type": "code",
   "execution_count": 325,
   "id": "d2941aab",
   "metadata": {},
   "outputs": [
    {
     "data": {
      "text/html": [
       "<style type=\"text/css\">\n",
       "#T_00399_row0_col0, #T_00399_row0_col1, #T_00399_row0_col2, #T_00399_row0_col3, #T_00399_row0_col4, #T_00399_row0_col5, #T_00399_row0_col6, #T_00399_row0_col7, #T_00399_row0_col8, #T_00399_row0_col9, #T_00399_row0_col10, #T_00399_row0_col11, #T_00399_row0_col12, #T_00399_row1_col0, #T_00399_row1_col1, #T_00399_row1_col2, #T_00399_row1_col3, #T_00399_row1_col4, #T_00399_row1_col5, #T_00399_row1_col6, #T_00399_row1_col7, #T_00399_row1_col8, #T_00399_row1_col9, #T_00399_row1_col10, #T_00399_row1_col11, #T_00399_row1_col12, #T_00399_row2_col0, #T_00399_row2_col1, #T_00399_row2_col2, #T_00399_row2_col3, #T_00399_row2_col4, #T_00399_row2_col5, #T_00399_row2_col6, #T_00399_row2_col7, #T_00399_row2_col8, #T_00399_row2_col9, #T_00399_row2_col10, #T_00399_row2_col11, #T_00399_row2_col12, #T_00399_row3_col0, #T_00399_row3_col1, #T_00399_row3_col2, #T_00399_row3_col3, #T_00399_row3_col4, #T_00399_row3_col5, #T_00399_row3_col6, #T_00399_row3_col7, #T_00399_row3_col8, #T_00399_row3_col9, #T_00399_row3_col10, #T_00399_row3_col11, #T_00399_row3_col12, #T_00399_row4_col0, #T_00399_row4_col1, #T_00399_row4_col2, #T_00399_row4_col3, #T_00399_row4_col4, #T_00399_row4_col5, #T_00399_row4_col6, #T_00399_row4_col7, #T_00399_row4_col8, #T_00399_row4_col9, #T_00399_row4_col10, #T_00399_row4_col11, #T_00399_row4_col12 {\n",
       "  background-color: #FDD667;\n",
       "  color: black;\n",
       "  border: 1.5px solid black;\n",
       "}\n",
       "</style>\n",
       "<table id=\"T_00399\">\n",
       "  <thead>\n",
       "    <tr>\n",
       "      <th class=\"blank level0\" >&nbsp;</th>\n",
       "      <th id=\"T_00399_level0_col0\" class=\"col_heading level0 col0\" >loan_id</th>\n",
       "      <th id=\"T_00399_level0_col1\" class=\"col_heading level0 col1\" >gender</th>\n",
       "      <th id=\"T_00399_level0_col2\" class=\"col_heading level0 col2\" >married</th>\n",
       "      <th id=\"T_00399_level0_col3\" class=\"col_heading level0 col3\" >dependents</th>\n",
       "      <th id=\"T_00399_level0_col4\" class=\"col_heading level0 col4\" >education</th>\n",
       "      <th id=\"T_00399_level0_col5\" class=\"col_heading level0 col5\" >self_employed</th>\n",
       "      <th id=\"T_00399_level0_col6\" class=\"col_heading level0 col6\" >applicantincome</th>\n",
       "      <th id=\"T_00399_level0_col7\" class=\"col_heading level0 col7\" >coapplicantincome</th>\n",
       "      <th id=\"T_00399_level0_col8\" class=\"col_heading level0 col8\" >loanamount</th>\n",
       "      <th id=\"T_00399_level0_col9\" class=\"col_heading level0 col9\" >loan_amount_term</th>\n",
       "      <th id=\"T_00399_level0_col10\" class=\"col_heading level0 col10\" >credit_history</th>\n",
       "      <th id=\"T_00399_level0_col11\" class=\"col_heading level0 col11\" >property_area</th>\n",
       "      <th id=\"T_00399_level0_col12\" class=\"col_heading level0 col12\" >loan_status</th>\n",
       "    </tr>\n",
       "  </thead>\n",
       "  <tbody>\n",
       "    <tr>\n",
       "      <th id=\"T_00399_level0_row0\" class=\"row_heading level0 row0\" >0</th>\n",
       "      <td id=\"T_00399_row0_col0\" class=\"data row0 col0\" >LP001002</td>\n",
       "      <td id=\"T_00399_row0_col1\" class=\"data row0 col1\" >1</td>\n",
       "      <td id=\"T_00399_row0_col2\" class=\"data row0 col2\" >0</td>\n",
       "      <td id=\"T_00399_row0_col3\" class=\"data row0 col3\" >0</td>\n",
       "      <td id=\"T_00399_row0_col4\" class=\"data row0 col4\" >0</td>\n",
       "      <td id=\"T_00399_row0_col5\" class=\"data row0 col5\" >0</td>\n",
       "      <td id=\"T_00399_row0_col6\" class=\"data row0 col6\" >5849</td>\n",
       "      <td id=\"T_00399_row0_col7\" class=\"data row0 col7\" >0.000000</td>\n",
       "      <td id=\"T_00399_row0_col8\" class=\"data row0 col8\" >nan</td>\n",
       "      <td id=\"T_00399_row0_col9\" class=\"data row0 col9\" >360.000000</td>\n",
       "      <td id=\"T_00399_row0_col10\" class=\"data row0 col10\" >1.000000</td>\n",
       "      <td id=\"T_00399_row0_col11\" class=\"data row0 col11\" >2</td>\n",
       "      <td id=\"T_00399_row0_col12\" class=\"data row0 col12\" >1</td>\n",
       "    </tr>\n",
       "    <tr>\n",
       "      <th id=\"T_00399_level0_row1\" class=\"row_heading level0 row1\" >1</th>\n",
       "      <td id=\"T_00399_row1_col0\" class=\"data row1 col0\" >LP001003</td>\n",
       "      <td id=\"T_00399_row1_col1\" class=\"data row1 col1\" >1</td>\n",
       "      <td id=\"T_00399_row1_col2\" class=\"data row1 col2\" >1</td>\n",
       "      <td id=\"T_00399_row1_col3\" class=\"data row1 col3\" >1</td>\n",
       "      <td id=\"T_00399_row1_col4\" class=\"data row1 col4\" >0</td>\n",
       "      <td id=\"T_00399_row1_col5\" class=\"data row1 col5\" >0</td>\n",
       "      <td id=\"T_00399_row1_col6\" class=\"data row1 col6\" >4583</td>\n",
       "      <td id=\"T_00399_row1_col7\" class=\"data row1 col7\" >1508.000000</td>\n",
       "      <td id=\"T_00399_row1_col8\" class=\"data row1 col8\" >128.000000</td>\n",
       "      <td id=\"T_00399_row1_col9\" class=\"data row1 col9\" >360.000000</td>\n",
       "      <td id=\"T_00399_row1_col10\" class=\"data row1 col10\" >1.000000</td>\n",
       "      <td id=\"T_00399_row1_col11\" class=\"data row1 col11\" >0</td>\n",
       "      <td id=\"T_00399_row1_col12\" class=\"data row1 col12\" >0</td>\n",
       "    </tr>\n",
       "    <tr>\n",
       "      <th id=\"T_00399_level0_row2\" class=\"row_heading level0 row2\" >2</th>\n",
       "      <td id=\"T_00399_row2_col0\" class=\"data row2 col0\" >LP001005</td>\n",
       "      <td id=\"T_00399_row2_col1\" class=\"data row2 col1\" >1</td>\n",
       "      <td id=\"T_00399_row2_col2\" class=\"data row2 col2\" >1</td>\n",
       "      <td id=\"T_00399_row2_col3\" class=\"data row2 col3\" >0</td>\n",
       "      <td id=\"T_00399_row2_col4\" class=\"data row2 col4\" >0</td>\n",
       "      <td id=\"T_00399_row2_col5\" class=\"data row2 col5\" >1</td>\n",
       "      <td id=\"T_00399_row2_col6\" class=\"data row2 col6\" >3000</td>\n",
       "      <td id=\"T_00399_row2_col7\" class=\"data row2 col7\" >0.000000</td>\n",
       "      <td id=\"T_00399_row2_col8\" class=\"data row2 col8\" >66.000000</td>\n",
       "      <td id=\"T_00399_row2_col9\" class=\"data row2 col9\" >360.000000</td>\n",
       "      <td id=\"T_00399_row2_col10\" class=\"data row2 col10\" >1.000000</td>\n",
       "      <td id=\"T_00399_row2_col11\" class=\"data row2 col11\" >2</td>\n",
       "      <td id=\"T_00399_row2_col12\" class=\"data row2 col12\" >1</td>\n",
       "    </tr>\n",
       "    <tr>\n",
       "      <th id=\"T_00399_level0_row3\" class=\"row_heading level0 row3\" >3</th>\n",
       "      <td id=\"T_00399_row3_col0\" class=\"data row3 col0\" >LP001006</td>\n",
       "      <td id=\"T_00399_row3_col1\" class=\"data row3 col1\" >1</td>\n",
       "      <td id=\"T_00399_row3_col2\" class=\"data row3 col2\" >1</td>\n",
       "      <td id=\"T_00399_row3_col3\" class=\"data row3 col3\" >0</td>\n",
       "      <td id=\"T_00399_row3_col4\" class=\"data row3 col4\" >1</td>\n",
       "      <td id=\"T_00399_row3_col5\" class=\"data row3 col5\" >0</td>\n",
       "      <td id=\"T_00399_row3_col6\" class=\"data row3 col6\" >2583</td>\n",
       "      <td id=\"T_00399_row3_col7\" class=\"data row3 col7\" >2358.000000</td>\n",
       "      <td id=\"T_00399_row3_col8\" class=\"data row3 col8\" >120.000000</td>\n",
       "      <td id=\"T_00399_row3_col9\" class=\"data row3 col9\" >360.000000</td>\n",
       "      <td id=\"T_00399_row3_col10\" class=\"data row3 col10\" >1.000000</td>\n",
       "      <td id=\"T_00399_row3_col11\" class=\"data row3 col11\" >2</td>\n",
       "      <td id=\"T_00399_row3_col12\" class=\"data row3 col12\" >1</td>\n",
       "    </tr>\n",
       "    <tr>\n",
       "      <th id=\"T_00399_level0_row4\" class=\"row_heading level0 row4\" >4</th>\n",
       "      <td id=\"T_00399_row4_col0\" class=\"data row4 col0\" >LP001008</td>\n",
       "      <td id=\"T_00399_row4_col1\" class=\"data row4 col1\" >1</td>\n",
       "      <td id=\"T_00399_row4_col2\" class=\"data row4 col2\" >0</td>\n",
       "      <td id=\"T_00399_row4_col3\" class=\"data row4 col3\" >0</td>\n",
       "      <td id=\"T_00399_row4_col4\" class=\"data row4 col4\" >0</td>\n",
       "      <td id=\"T_00399_row4_col5\" class=\"data row4 col5\" >0</td>\n",
       "      <td id=\"T_00399_row4_col6\" class=\"data row4 col6\" >6000</td>\n",
       "      <td id=\"T_00399_row4_col7\" class=\"data row4 col7\" >0.000000</td>\n",
       "      <td id=\"T_00399_row4_col8\" class=\"data row4 col8\" >141.000000</td>\n",
       "      <td id=\"T_00399_row4_col9\" class=\"data row4 col9\" >360.000000</td>\n",
       "      <td id=\"T_00399_row4_col10\" class=\"data row4 col10\" >1.000000</td>\n",
       "      <td id=\"T_00399_row4_col11\" class=\"data row4 col11\" >2</td>\n",
       "      <td id=\"T_00399_row4_col12\" class=\"data row4 col12\" >1</td>\n",
       "    </tr>\n",
       "  </tbody>\n",
       "</table>\n"
      ],
      "text/plain": [
       "<pandas.io.formats.style.Styler at 0x26d1d8c9dc0>"
      ]
     },
     "execution_count": 325,
     "metadata": {},
     "output_type": "execute_result"
    }
   ],
   "source": [
    "df.head().style.set_properties(**{\"background-color\": \"#FDD667\",\"color\":\"black\",\"border\": \"1.5px solid black\"})"
   ]
  },
  {
   "cell_type": "markdown",
   "id": "9b5bb59f",
   "metadata": {},
   "source": [
    "<a id=\"4\"></a>\n",
    "# <p style=\"padding:10px;background-color:#FDD667;margin:0;color:#1c1c1c;font-family:newtimeroman;font-size:100%;text-align:center;border-radius: 15px 50px;overflow:hidden;font-weight:500\"> Data Preprocessing</p>"
   ]
  },
  {
   "cell_type": "code",
   "execution_count": 326,
   "id": "450b92fa",
   "metadata": {
    "scrolled": true
   },
   "outputs": [
    {
     "data": {
      "text/plain": [
       "loan_id               0\n",
       "gender                0\n",
       "married               0\n",
       "dependents           15\n",
       "education             0\n",
       "self_employed         0\n",
       "applicantincome       0\n",
       "coapplicantincome     0\n",
       "loanamount           22\n",
       "loan_amount_term     14\n",
       "credit_history       50\n",
       "property_area         0\n",
       "loan_status           0\n",
       "dtype: int64"
      ]
     },
     "execution_count": 326,
     "metadata": {},
     "output_type": "execute_result"
    }
   ],
   "source": [
    "df.isna().sum()"
   ]
  },
  {
   "cell_type": "code",
   "execution_count": 327,
   "id": "986a6e4c",
   "metadata": {},
   "outputs": [
    {
     "name": "stdout",
     "output_type": "stream",
     "text": [
      "<class 'pandas.core.frame.DataFrame'>\n",
      "RangeIndex: 614 entries, 0 to 613\n",
      "Data columns (total 13 columns):\n",
      " #   Column             Non-Null Count  Dtype  \n",
      "---  ------             --------------  -----  \n",
      " 0   loan_id            614 non-null    object \n",
      " 1   gender             614 non-null    int32  \n",
      " 2   married            614 non-null    int32  \n",
      " 3   dependents         599 non-null    object \n",
      " 4   education          614 non-null    int32  \n",
      " 5   self_employed      614 non-null    int32  \n",
      " 6   applicantincome    614 non-null    int64  \n",
      " 7   coapplicantincome  614 non-null    float64\n",
      " 8   loanamount         592 non-null    float64\n",
      " 9   loan_amount_term   600 non-null    float64\n",
      " 10  credit_history     564 non-null    float64\n",
      " 11  property_area      614 non-null    int32  \n",
      " 12  loan_status        614 non-null    int32  \n",
      "dtypes: float64(4), int32(6), int64(1), object(2)\n",
      "memory usage: 48.1+ KB\n"
     ]
    }
   ],
   "source": [
    "df.info()"
   ]
  },
  {
   "cell_type": "code",
   "execution_count": 328,
   "id": "77788aa6",
   "metadata": {},
   "outputs": [],
   "source": [
    "df_clean = df"
   ]
  },
  {
   "cell_type": "code",
   "execution_count": 329,
   "id": "8358c684",
   "metadata": {
    "scrolled": true
   },
   "outputs": [],
   "source": [
    "df_clean.drop('loan_id', axis=1,inplace=True)"
   ]
  },
  {
   "cell_type": "code",
   "execution_count": 330,
   "id": "ff7890cb",
   "metadata": {},
   "outputs": [],
   "source": [
    "imputer = KNNImputer(n_neighbors=3)\n",
    "df_clean = pd.DataFrame(imputer.fit_transform(df),columns = df_clean.columns)"
   ]
  },
  {
   "cell_type": "code",
   "execution_count": 331,
   "id": "8a39d054",
   "metadata": {},
   "outputs": [
    {
     "data": {
      "text/plain": [
       "gender               0\n",
       "married              0\n",
       "dependents           0\n",
       "education            0\n",
       "self_employed        0\n",
       "applicantincome      0\n",
       "coapplicantincome    0\n",
       "loanamount           0\n",
       "loan_amount_term     0\n",
       "credit_history       0\n",
       "property_area        0\n",
       "loan_status          0\n",
       "dtype: int64"
      ]
     },
     "execution_count": 331,
     "metadata": {},
     "output_type": "execute_result"
    }
   ],
   "source": [
    "df_clean.isna().sum()"
   ]
  },
  {
   "cell_type": "code",
   "execution_count": 332,
   "id": "5794683b",
   "metadata": {},
   "outputs": [],
   "source": [
    "# other way for missing value\n",
    "#rev_null=['Gender','Married','Dependents','Self_Employed','Credit_History','LoanAmount','Loan_Amount_Term']\n",
    "#df[rev_null]=df[rev_null].replace({np.nan:df['Gender'].mode(),\n",
    "                                   #np.nan:df['Married'].mode(),\n",
    "                                   #np.nan:df['Dependents'].mode(),\n",
    "                                   #np.nan:df['Self_Employed'].mode(),\n",
    "                                   #np.nan:df['Credit_History'].mode(),\n",
    "                                   #np.nan:df['LoanAmount'].mean(),\n",
    "                                   #np.nan:df['Loan_Amount_Term'].mean()})"
   ]
  },
  {
   "cell_type": "markdown",
   "id": "361f39fd",
   "metadata": {},
   "source": [
    "<a id=\"5\"></a>\n",
    "# <p style=\"padding:10px;background-color:#FDD667;margin:0;color:#1c1c1c;font-family:newtimeroman;font-size:100%;text-align:center;border-radius: 15px 50px;overflow:hidden;font-weight:500\"> Feature Vector and Target Variable</p>"
   ]
  },
  {
   "cell_type": "code",
   "execution_count": 333,
   "id": "a863ad0a",
   "metadata": {},
   "outputs": [],
   "source": [
    "X = df_clean.drop(columns=['loan_status']).values\n",
    "y = df_clean['loan_status'].values"
   ]
  },
  {
   "cell_type": "code",
   "execution_count": 334,
   "id": "98a27540",
   "metadata": {},
   "outputs": [
    {
     "data": {
      "text/plain": [
       "array([[  1.,   0.,   0., ..., 360.,   1.,   2.],\n",
       "       [  1.,   1.,   1., ..., 360.,   1.,   0.],\n",
       "       [  1.,   1.,   0., ..., 360.,   1.,   2.],\n",
       "       ...,\n",
       "       [  1.,   1.,   1., ..., 360.,   1.,   2.],\n",
       "       [  1.,   1.,   2., ..., 360.,   1.,   2.],\n",
       "       [  0.,   0.,   0., ..., 360.,   0.,   1.]])"
      ]
     },
     "execution_count": 334,
     "metadata": {},
     "output_type": "execute_result"
    }
   ],
   "source": [
    "X"
   ]
  },
  {
   "cell_type": "code",
   "execution_count": 335,
   "id": "45f61ab9",
   "metadata": {
    "scrolled": true
   },
   "outputs": [
    {
     "data": {
      "text/plain": [
       "array([1., 0., 1., 1., 1., 1., 1., 0., 1., 0., 1., 1., 1., 0., 1., 1., 1.,\n",
       "       0., 0., 1., 0., 1., 0., 0., 0., 1., 1., 1., 0., 1., 0., 0., 0., 1.,\n",
       "       0., 1., 0., 1., 1., 1., 0., 1., 1., 1., 1., 1., 1., 1., 0., 1., 1.,\n",
       "       1., 0., 0., 0., 1., 1., 0., 1., 1., 1., 1., 0., 0., 0., 0., 0., 1.,\n",
       "       1., 0., 1., 1., 1., 0., 1., 0., 0., 0., 0., 1., 1., 1., 0., 0., 1.,\n",
       "       1., 1., 1., 1., 1., 1., 1., 1., 1., 1., 0., 1., 1., 1., 1., 1., 1.,\n",
       "       1., 1., 1., 1., 1., 0., 0., 1., 1., 1., 0., 1., 1., 1., 1., 1., 0.,\n",
       "       1., 1., 1., 1., 1., 1., 1., 1., 1., 0., 0., 1., 1., 1., 1., 1., 0.,\n",
       "       0., 1., 0., 0., 0., 1., 1., 1., 1., 1., 1., 1., 0., 1., 0., 1., 0.,\n",
       "       0., 1., 1., 1., 1., 1., 1., 1., 0., 0., 1., 1., 1., 0., 1., 0., 1.,\n",
       "       1., 1., 0., 1., 0., 1., 1., 0., 1., 0., 0., 0., 1., 0., 1., 1., 0.,\n",
       "       1., 1., 1., 1., 0., 0., 1., 1., 0., 1., 1., 1., 0., 1., 1., 0., 1.,\n",
       "       1., 1., 1., 1., 1., 0., 0., 0., 1., 1., 1., 1., 0., 1., 0., 1., 0.,\n",
       "       1., 1., 1., 1., 0., 0., 1., 1., 1., 1., 1., 1., 1., 1., 1., 0., 1.,\n",
       "       1., 1., 1., 0., 1., 1., 1., 0., 1., 1., 1., 1., 0., 0., 1., 1., 0.,\n",
       "       1., 0., 0., 0., 0., 1., 1., 0., 1., 1., 1., 1., 1., 0., 1., 1., 1.,\n",
       "       1., 1., 1., 1., 1., 1., 1., 1., 0., 1., 1., 1., 0., 1., 0., 1., 1.,\n",
       "       1., 1., 0., 1., 0., 1., 1., 1., 1., 0., 0., 0., 1., 1., 1., 1., 0.,\n",
       "       1., 0., 0., 1., 1., 1., 1., 1., 0., 1., 1., 1., 1., 0., 1., 1., 1.,\n",
       "       1., 1., 0., 1., 1., 0., 1., 1., 1., 1., 1., 1., 1., 1., 1., 0., 1.,\n",
       "       0., 0., 1., 1., 1., 1., 0., 1., 1., 1., 1., 0., 1., 0., 1., 1., 1.,\n",
       "       0., 0., 1., 0., 1., 1., 1., 1., 0., 0., 0., 1., 0., 1., 1., 1., 0.,\n",
       "       1., 1., 1., 1., 0., 1., 1., 1., 1., 1., 0., 1., 1., 0., 1., 1., 1.,\n",
       "       1., 1., 1., 1., 1., 0., 1., 1., 0., 0., 0., 1., 1., 0., 1., 1., 1.,\n",
       "       0., 0., 0., 1., 0., 1., 0., 1., 0., 0., 1., 1., 1., 0., 1., 0., 1.,\n",
       "       1., 0., 1., 1., 1., 1., 0., 1., 1., 1., 1., 1., 1., 0., 1., 1., 1.,\n",
       "       1., 1., 1., 1., 1., 0., 0., 0., 0., 1., 0., 1., 1., 1., 1., 0., 1.,\n",
       "       0., 1., 1., 1., 1., 0., 1., 0., 1., 1., 0., 1., 0., 1., 1., 1., 1.,\n",
       "       1., 0., 1., 0., 1., 1., 1., 1., 1., 1., 0., 0., 1., 0., 1., 1., 1.,\n",
       "       1., 0., 1., 1., 1., 1., 0., 1., 1., 1., 0., 1., 1., 1., 0., 1., 1.,\n",
       "       0., 1., 1., 0., 0., 1., 1., 0., 0., 0., 1., 1., 1., 1., 0., 1., 1.,\n",
       "       1., 1., 1., 1., 1., 0., 0., 1., 1., 1., 1., 0., 1., 1., 0., 1., 1.,\n",
       "       1., 1., 0., 1., 0., 1., 0., 1., 1., 0., 0., 1., 1., 1., 1., 1., 1.,\n",
       "       1., 1., 1., 0., 1., 1., 0., 0., 0., 1., 0., 1., 0., 0., 1., 0., 1.,\n",
       "       1., 1., 1., 0., 1., 0., 0., 0., 1., 1., 1., 0., 1., 0., 1., 1., 1.,\n",
       "       1., 0., 0., 1., 1., 0., 1., 1., 1., 1., 0., 1., 1., 1., 1., 1., 1.,\n",
       "       1., 0.])"
      ]
     },
     "execution_count": 335,
     "metadata": {},
     "output_type": "execute_result"
    }
   ],
   "source": [
    "y"
   ]
  },
  {
   "cell_type": "markdown",
   "id": "db6e21ca",
   "metadata": {},
   "source": [
    "<a id=\"6\"></a>\n",
    "# <p style=\"padding:10px;background-color:#FDD667;margin:0;color:#1c1c1c;font-family:newtimeroman;font-size:100%;text-align:center;border-radius: 15px 50px;overflow:hidden;font-weight:500\">Splitting the Dataset into the Training Set and Test Set\n",
    "</p>"
   ]
  },
  {
   "cell_type": "code",
   "execution_count": 336,
   "id": "c78c6869",
   "metadata": {},
   "outputs": [],
   "source": [
    "X_train, X_test, y_train, y_test = train_test_split(X, y, test_size = 0.25, random_state = 0)"
   ]
  },
  {
   "cell_type": "markdown",
   "id": "a8081dfc",
   "metadata": {},
   "source": [
    "<div class=\"list-group\" id=\"list-tab\" role=\"tablist\">\n",
    "<p style=\"padding:10px;background-color:#FDD667;margin:0;color:#1c1c1c;font-family:newtimeroman;font-size:130%;text-align:center;border-radius: 15px 50px;overflow:hidden;font-weight:500\"> Feature Scaling</p>"
   ]
  },
  {
   "cell_type": "code",
   "execution_count": 337,
   "id": "7123ca33",
   "metadata": {},
   "outputs": [],
   "source": [
    "sc = StandardScaler()\n",
    "X_train = sc.fit_transform(X_train)\n",
    "X_test = sc.transform(X_test)"
   ]
  },
  {
   "cell_type": "markdown",
   "id": "a2abb473",
   "metadata": {},
   "source": [
    "<a id=\"7\"></a>\n",
    "# <p style=\"padding:10px;background-color:#FDD667;margin:0;color:#1c1c1c;font-family:newtimeroman;font-size:100%;text-align:center;border-radius: 15px 50px;overflow:hidden;font-weight:500\"> Random Forest Model</p>"
   ]
  },
  {
   "cell_type": "code",
   "execution_count": 338,
   "id": "104f8826",
   "metadata": {},
   "outputs": [],
   "source": [
    "rfc = RandomForestClassifier(criterion = 'entropy', random_state = 42)"
   ]
  },
  {
   "cell_type": "code",
   "execution_count": 339,
   "id": "e87f0062",
   "metadata": {},
   "outputs": [
    {
     "data": {
      "text/plain": [
       "RandomForestClassifier(criterion='entropy', random_state=42)"
      ]
     },
     "execution_count": 339,
     "metadata": {},
     "output_type": "execute_result"
    }
   ],
   "source": [
    "rfc.fit(X_train, y_train)"
   ]
  },
  {
   "cell_type": "markdown",
   "id": "f2d6e54e",
   "metadata": {},
   "source": [
    "<div class=\"list-group\" id=\"list-tab\" role=\"tablist\">\n",
    "<p style=\"padding:10px;background-color:#FDD667;margin:0;color:#1c1c1c;font-family:newtimeroman;font-size:130%;text-align:center;border-radius: 15px 50px;overflow:hidden;font-weight:500\"> Class Validation</p>"
   ]
  },
  {
   "cell_type": "code",
   "execution_count": 340,
   "id": "4f58ad51",
   "metadata": {},
   "outputs": [
    {
     "name": "stdout",
     "output_type": "stream",
     "text": [
      "Mean cross-validation score: 0.79\n"
     ]
    }
   ],
   "source": [
    "scores = cross_val_score(rfc, X_train, y_train,cv=10)\n",
    "print(\"Mean cross-validation score: %.2f\" % scores.mean())"
   ]
  },
  {
   "cell_type": "code",
   "execution_count": 341,
   "id": "4ee34f37",
   "metadata": {},
   "outputs": [
    {
     "data": {
      "text/plain": [
       "RandomForestClassifier(criterion='entropy', random_state=42)"
      ]
     },
     "execution_count": 341,
     "metadata": {},
     "output_type": "execute_result"
    }
   ],
   "source": [
    "rfc.fit(X_train, y_train)"
   ]
  },
  {
   "cell_type": "code",
   "execution_count": 342,
   "id": "5b0793ec",
   "metadata": {},
   "outputs": [],
   "source": [
    "y_pred_test = rfc.predict(X_test)\n",
    "y_pred_train = rfc.predict(X_train)"
   ]
  },
  {
   "cell_type": "markdown",
   "id": "22a890eb",
   "metadata": {},
   "source": [
    "<a id=\"8\"></a>\n",
    "# <p style=\"padding:10px;background-color:#FDD667;margin:0;color:#1c1c1c;font-family:newtimeroman;font-size:100%;text-align:center;border-radius: 15px 50px;overflow:hidden;font-weight:500\"> Evaluation</p>"
   ]
  },
  {
   "cell_type": "code",
   "execution_count": 343,
   "id": "8b04337b",
   "metadata": {
    "scrolled": false
   },
   "outputs": [
    {
     "name": "stdout",
     "output_type": "stream",
     "text": [
      "[[ 20  23]\n",
      " [  7 104]]\n"
     ]
    },
    {
     "data": {
      "text/html": [
       "<div>\n",
       "<style scoped>\n",
       "    .dataframe tbody tr th:only-of-type {\n",
       "        vertical-align: middle;\n",
       "    }\n",
       "\n",
       "    .dataframe tbody tr th {\n",
       "        vertical-align: top;\n",
       "    }\n",
       "\n",
       "    .dataframe thead th {\n",
       "        text-align: right;\n",
       "    }\n",
       "</style>\n",
       "<table border=\"1\" class=\"dataframe\">\n",
       "  <thead>\n",
       "    <tr style=\"text-align: right;\">\n",
       "      <th>col_0</th>\n",
       "      <th>0.0</th>\n",
       "      <th>1.0</th>\n",
       "    </tr>\n",
       "    <tr>\n",
       "      <th>row_0</th>\n",
       "      <th></th>\n",
       "      <th></th>\n",
       "    </tr>\n",
       "  </thead>\n",
       "  <tbody>\n",
       "    <tr>\n",
       "      <th>0.0</th>\n",
       "      <td>20</td>\n",
       "      <td>23</td>\n",
       "    </tr>\n",
       "    <tr>\n",
       "      <th>1.0</th>\n",
       "      <td>7</td>\n",
       "      <td>104</td>\n",
       "    </tr>\n",
       "  </tbody>\n",
       "</table>\n",
       "</div>"
      ],
      "text/plain": [
       "col_0  0.0  1.0\n",
       "row_0          \n",
       "0.0     20   23\n",
       "1.0      7  104"
      ]
     },
     "execution_count": 343,
     "metadata": {},
     "output_type": "execute_result"
    }
   ],
   "source": [
    "cm_test = confusion_matrix(y_test, y_pred_test)\n",
    "print(cm_test)\n",
    "pd.crosstab(y_test, y_pred_test)"
   ]
  },
  {
   "cell_type": "code",
   "execution_count": 344,
   "id": "e133ce6b",
   "metadata": {},
   "outputs": [
    {
     "data": {
      "text/plain": [
       "<AxesSubplot:>"
      ]
     },
     "execution_count": 344,
     "metadata": {},
     "output_type": "execute_result"
    },
    {
     "data": {
      "image/png": "[encoded data removed]",
      "text/plain": [
       "<Figure size 432x288 with 2 Axes>"
      ]
     },
     "metadata": {
      "needs_background": "light"
     },
     "output_type": "display_data"
    }
   ],
   "source": [
    "sns.heatmap(cm_test, square=True , annot=True)"
   ]
  },
  {
   "cell_type": "code",
   "execution_count": 345,
   "id": "dbfccfce",
   "metadata": {},
   "outputs": [
    {
     "name": "stdout",
     "output_type": "stream",
     "text": [
      "[[149   0]\n",
      " [  0 311]]\n"
     ]
    },
    {
     "data": {
      "text/html": [
       "<div>\n",
       "<style scoped>\n",
       "    .dataframe tbody tr th:only-of-type {\n",
       "        vertical-align: middle;\n",
       "    }\n",
       "\n",
       "    .dataframe tbody tr th {\n",
       "        vertical-align: top;\n",
       "    }\n",
       "\n",
       "    .dataframe thead th {\n",
       "        text-align: right;\n",
       "    }\n",
       "</style>\n",
       "<table border=\"1\" class=\"dataframe\">\n",
       "  <thead>\n",
       "    <tr style=\"text-align: right;\">\n",
       "      <th>col_0</th>\n",
       "      <th>0.0</th>\n",
       "      <th>1.0</th>\n",
       "    </tr>\n",
       "    <tr>\n",
       "      <th>row_0</th>\n",
       "      <th></th>\n",
       "      <th></th>\n",
       "    </tr>\n",
       "  </thead>\n",
       "  <tbody>\n",
       "    <tr>\n",
       "      <th>0.0</th>\n",
       "      <td>149</td>\n",
       "      <td>0</td>\n",
       "    </tr>\n",
       "    <tr>\n",
       "      <th>1.0</th>\n",
       "      <td>0</td>\n",
       "      <td>311</td>\n",
       "    </tr>\n",
       "  </tbody>\n",
       "</table>\n",
       "</div>"
      ],
      "text/plain": [
       "col_0  0.0  1.0\n",
       "row_0          \n",
       "0.0    149    0\n",
       "1.0      0  311"
      ]
     },
     "execution_count": 345,
     "metadata": {},
     "output_type": "execute_result"
    }
   ],
   "source": [
    "cm_train = confusion_matrix(y_train, y_pred_train)\n",
    "print(cm_train)\n",
    "pd.crosstab(y_train, y_pred_train)"
   ]
  },
  {
   "cell_type": "code",
   "execution_count": 346,
   "id": "e6c0b455",
   "metadata": {},
   "outputs": [
    {
     "data": {
      "text/plain": [
       "<AxesSubplot:>"
      ]
     },
     "execution_count": 346,
     "metadata": {},
     "output_type": "execute_result"
    },
    {
     "data": {
      "image/png": "[encoded data removed]",
      "text/plain": [
       "<Figure size 432x288 with 2 Axes>"
      ]
     },
     "metadata": {
      "needs_background": "light"
     },
     "output_type": "display_data"
    }
   ],
   "source": [
    "sns.heatmap(cm_test, square=True , annot=True)"
   ]
  },
  {
   "cell_type": "code",
   "execution_count": 347,
   "id": "d8e36690",
   "metadata": {},
   "outputs": [
    {
     "name": "stdout",
     "output_type": "stream",
     "text": [
      "              precision    recall  f1-score   support\n",
      "\n",
      "         0.0       0.74      0.47      0.57        43\n",
      "         1.0       0.82      0.94      0.87       111\n",
      "\n",
      "    accuracy                           0.81       154\n",
      "   macro avg       0.78      0.70      0.72       154\n",
      "weighted avg       0.80      0.81      0.79       154\n",
      "\n"
     ]
    }
   ],
   "source": [
    "print(classification_report(y_test, y_pred_test))"
   ]
  },
  {
   "cell_type": "code",
   "execution_count": 348,
   "id": "6e2566d3",
   "metadata": {},
   "outputs": [
    {
     "name": "stdout",
     "output_type": "stream",
     "text": [
      "              precision    recall  f1-score   support\n",
      "\n",
      "         0.0       1.00      1.00      1.00       149\n",
      "         1.0       1.00      1.00      1.00       311\n",
      "\n",
      "    accuracy                           1.00       460\n",
      "   macro avg       1.00      1.00      1.00       460\n",
      "weighted avg       1.00      1.00      1.00       460\n",
      "\n"
     ]
    }
   ],
   "source": [
    "print(classification_report(y_train, y_pred_train))"
   ]
  },
  {
   "cell_type": "markdown",
   "id": "fe18787d",
   "metadata": {},
   "source": [
    "<div class=\"list-group\" id=\"list-tab\" role=\"tablist\">\n",
    "<p style=\"padding:10px;background-color:#FDD667;margin:0;color:#1c1c1c;font-family:newtimeroman;font-size:130%;text-align:center;border-radius: 15px 50px;overflow:hidden;font-weight:500\"> Accuracy</p>"
   ]
  },
  {
   "cell_type": "code",
   "execution_count": 349,
   "id": "fffa6ce8",
   "metadata": {
    "scrolled": true
   },
   "outputs": [
    {
     "name": "stdout",
     "output_type": "stream",
     "text": [
      "0.8051948051948052\n",
      "1.0\n"
     ]
    }
   ],
   "source": [
    "print(accuracy_score(y_test, y_pred_test))\n",
    "print(accuracy_score(y_train, y_pred_train))"
   ]
  },
  {
   "cell_type": "markdown",
   "id": "f892b669",
   "metadata": {},
   "source": [
    "<div class=\"list-group\" id=\"list-tab\" role=\"tablist\">\n",
    "<p style=\"padding:10px;background-color:#FDD667;margin:0;color:#1c1c1c;font-family:newtimeroman;font-size:130%;text-align:center;border-radius: 15px 50px;overflow:hidden;font-weight:500\"> Recall</p>"
   ]
  },
  {
   "cell_type": "code",
   "execution_count": 350,
   "id": "4597223f",
   "metadata": {},
   "outputs": [
    {
     "name": "stdout",
     "output_type": "stream",
     "text": [
      "0.7010266080033521\n",
      "1.0\n"
     ]
    }
   ],
   "source": [
    "print(recall_score(y_test, y_pred_test,average='macro'))\n",
    "print(recall_score(y_train, y_pred_train, average='macro'))"
   ]
  },
  {
   "cell_type": "markdown",
   "id": "9e5f86cf",
   "metadata": {},
   "source": [
    "<div class=\"list-group\" id=\"list-tab\" role=\"tablist\">\n",
    "<p style=\"padding:10px;background-color:#FDD667;margin:0;color:#1c1c1c;font-family:newtimeroman;font-size:130%;text-align:center;border-radius: 15px 50px;overflow:hidden;font-weight:500\"> Precision</p>"
   ]
  },
  {
   "cell_type": "code",
   "execution_count": 351,
   "id": "12bb6af2",
   "metadata": {
    "scrolled": true
   },
   "outputs": [
    {
     "name": "stdout",
     "output_type": "stream",
     "text": [
      "0.7798191892680082\n",
      "1.0\n"
     ]
    }
   ],
   "source": [
    "print(precision_score(y_test, y_pred_test,average='macro'))\n",
    "print(precision_score(y_train, y_pred_train, average='macro'))"
   ]
  },
  {
   "cell_type": "markdown",
   "id": "4434a16b",
   "metadata": {},
   "source": [
    "<a id=\"9\"></a>\n",
    "# <p style=\"padding:10px;background-color:#FDD667;margin:0;color:#1c1c1c;font-family:newtimeroman;font-size:100%;text-align:center;border-radius: 15px 50px;overflow:hidden;font-weight:500\"> Predicting a New Result</p>"
   ]
  },
  {
   "cell_type": "code",
   "execution_count": 352,
   "id": "4ff03398",
   "metadata": {},
   "outputs": [
    {
     "name": "stdout",
     "output_type": "stream",
     "text": [
      "Training Set Evaluation F1-Score=> 1.0\n"
     ]
    }
   ],
   "source": [
    "rfc_pred_train = rfc.predict(X_train)\n",
    "print('Training Set Evaluation F1-Score=>',f1_score(y_train,rfc_pred_train))"
   ]
  },
  {
   "cell_type": "code",
   "execution_count": 353,
   "id": "dcde2d4e",
   "metadata": {},
   "outputs": [
    {
     "name": "stdout",
     "output_type": "stream",
     "text": [
      "Testing Set Evaluation F1-Score=> 0.8739495798319327\n"
     ]
    }
   ],
   "source": [
    "rfc_pred_test = rfc.predict(X_test)\n",
    "print('Testing Set Evaluation F1-Score=>',f1_score(y_test,rfc_pred_test))"
   ]
  },
  {
   "cell_type": "code",
   "execution_count": 354,
   "id": "94c2baa2",
   "metadata": {},
   "outputs": [
    {
     "data": {
      "text/plain": [
       "array([0.0286371 , 0.02665499, 0.05698255, 0.02264305, 0.03182322,\n",
       "       0.20460512, 0.11975389, 0.19766045, 0.03594746, 0.22587788,\n",
       "       0.04941429])"
      ]
     },
     "execution_count": 354,
     "metadata": {},
     "output_type": "execute_result"
    }
   ],
   "source": [
    "rfc.feature_importances_"
   ]
  },
  {
   "cell_type": "code",
   "execution_count": 355,
   "id": "e8f46518",
   "metadata": {
    "scrolled": true
   },
   "outputs": [
    {
     "data": {
      "image/png": "[encoded data removed]",
      "text/plain": [
       "<Figure size 1296x576 with 1 Axes>"
      ]
     },
     "metadata": {
      "needs_background": "light"
     },
     "output_type": "display_data"
    }
   ],
   "source": [
    "feature_importance=pd.DataFrame({'rfc':rfc.feature_importances_},index=df_clean.drop(columns=['loan_status']).columns)\n",
    "feature_importance.sort_values(by='rfc',ascending=True,inplace=True)\n",
    "\n",
    "index = np.arange(len(feature_importance))\n",
    "fig, ax = plt.subplots(figsize=(18,8))\n",
    "rfc_feature=ax.barh(index,feature_importance['rfc'],0.4,color='purple',label='Random Forest')\n",
    "ax.set(yticks=index+0.4,yticklabels=feature_importance.index)\n",
    "\n",
    "ax.legend()\n",
    "plt.show()"
   ]
  },
  {
   "cell_type": "markdown",
   "id": "3f1aeee5",
   "metadata": {},
   "source": [
    "> Random Forest is suitable for situations when we have a large dataset, and interpretability is not a major concern."
   ]
  },
  {
   "cell_type": "code",
   "execution_count": null,
   "id": "7ddc57d5",
   "metadata": {},
   "outputs": [],
   "source": []
  }
 ],
 "metadata": {
  "kernelspec": {
   "display_name": "Python 3 (ipykernel)",
   "language": "python",
   "name": "python3"
  },
  "language_info": {
   "codemirror_mode": {
    "name": "ipython",
    "version": 3
   },
   "file_extension": ".py",
   "mimetype": "text/x-python",
   "name": "python",
   "nbconvert_exporter": "python",
   "pygments_lexer": "ipython3",
   "version": "3.9.12"
  }
 },
 "nbformat": 4,
 "nbformat_minor": 5
}
